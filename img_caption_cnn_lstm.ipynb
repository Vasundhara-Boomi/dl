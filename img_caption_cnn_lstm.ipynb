{
 "cells": [
  {
   "cell_type": "code",
   "execution_count": 5,
   "metadata": {},
   "outputs": [],
   "source": [
    "import numpy as np\n",
    "import tensorflow as tf\n",
    "from tensorflow.keras.models import Model, Sequential\n",
    "from tensorflow.keras.layers import Input, Dense, LSTM, Embedding, Dropout, add\n",
    "from tensorflow.keras.preprocessing.text import Tokenizer\n",
    "from tensorflow.keras.preprocessing.sequence import pad_sequences\n",
    "from tensorflow.keras.applications import VGG16, InceptionV3\n",
    "from tensorflow.keras.optimizers import Adam\n",
    "import os\n",
    "import string\n",
    "import nltk\n",
    "from nltk.translate.bleu_score import sentence_bleu\n",
    "from tqdm import tqdm\n",
    "import matplotlib.pyplot as plt\n",
    "from PIL import Image\n"
   ]
  },
  {
   "cell_type": "code",
   "execution_count": 7,
   "metadata": {},
   "outputs": [
    {
     "ename": "ValueError",
     "evalue": "not enough values to unpack (expected 2, got 1)",
     "output_type": "error",
     "traceback": [
      "\u001b[1;31m---------------------------------------------------------------------------\u001b[0m",
      "\u001b[1;31mValueError\u001b[0m                                Traceback (most recent call last)",
      "Cell \u001b[1;32mIn[7], line 19\u001b[0m\n\u001b[0;32m     16\u001b[0m         captions\u001b[38;5;241m.\u001b[39msetdefault(image_id, [])\u001b[38;5;241m.\u001b[39mappend(caption)\n\u001b[0;32m     17\u001b[0m     \u001b[38;5;28;01mreturn\u001b[39;00m captions\n\u001b[1;32m---> 19\u001b[0m captions \u001b[38;5;241m=\u001b[39m \u001b[43mload_captions\u001b[49m\u001b[43m(\u001b[49m\u001b[43mcaption_file\u001b[49m\u001b[43m)\u001b[49m\n",
      "Cell \u001b[1;32mIn[7], line 13\u001b[0m, in \u001b[0;36mload_captions\u001b[1;34m(filename)\u001b[0m\n\u001b[0;32m     11\u001b[0m \u001b[38;5;28;01mif\u001b[39;00m \u001b[38;5;28mlen\u001b[39m(line) \u001b[38;5;241m<\u001b[39m \u001b[38;5;241m1\u001b[39m:\n\u001b[0;32m     12\u001b[0m     \u001b[38;5;28;01mcontinue\u001b[39;00m\n\u001b[1;32m---> 13\u001b[0m image_id, caption \u001b[38;5;241m=\u001b[39m line\u001b[38;5;241m.\u001b[39msplit(\u001b[38;5;124m\"\u001b[39m\u001b[38;5;130;01m\\t\u001b[39;00m\u001b[38;5;124m\"\u001b[39m)\n\u001b[0;32m     14\u001b[0m image_id \u001b[38;5;241m=\u001b[39m image_id\u001b[38;5;241m.\u001b[39msplit(\u001b[38;5;124m\"\u001b[39m\u001b[38;5;124m#\u001b[39m\u001b[38;5;124m\"\u001b[39m)[\u001b[38;5;241m0\u001b[39m]\n\u001b[0;32m     15\u001b[0m caption \u001b[38;5;241m=\u001b[39m caption\u001b[38;5;241m.\u001b[39mtranslate(\u001b[38;5;28mstr\u001b[39m\u001b[38;5;241m.\u001b[39mmaketrans(\u001b[38;5;124m'\u001b[39m\u001b[38;5;124m'\u001b[39m, \u001b[38;5;124m'\u001b[39m\u001b[38;5;124m'\u001b[39m, string\u001b[38;5;241m.\u001b[39mpunctuation))\u001b[38;5;241m.\u001b[39mlower()\n",
      "\u001b[1;31mValueError\u001b[0m: not enough values to unpack (expected 2, got 1)"
     ]
    }
   ],
   "source": [
    "# Set paths for images and captions\n",
    "image_dir = 'D:/archive/Images'  # Replace with your image directory path\n",
    "caption_file = 'D:/archive/captions.txt'  # Replace with your captions file path\n",
    "\n",
    "# Load captions\n",
    "def load_captions(filename):\n",
    "    with open(filename, 'r') as f:\n",
    "        text = f.read()\n",
    "    captions = {}\n",
    "    for line in text.split('\\n'):\n",
    "        if len(line) < 1:\n",
    "            continue\n",
    "        image_id, caption = line.split(\"\\t\")\n",
    "        image_id = image_id.split(\"#\")[0]\n",
    "        caption = caption.translate(str.maketrans('', '', string.punctuation)).lower()\n",
    "        captions.setdefault(image_id, []).append(caption)\n",
    "    return captions\n",
    "\n",
    "captions = load_captions(caption_file)\n"
   ]
  },
  {
   "cell_type": "code",
   "execution_count": null,
   "metadata": {},
   "outputs": [],
   "source": [
    "# Load the pre-trained model for feature extraction (e.g., InceptionV3 or VGG16)\n",
    "def load_feature_extractor():\n",
    "    model = InceptionV3(weights='imagenet')\n",
    "    model = Model(inputs=model.input, outputs=model.layers[-2].output)  # Remove the last layer\n",
    "    return model\n",
    "\n",
    "# Extract and save image features\n",
    "feature_extractor = load_feature_extractor()\n",
    "\n",
    "def extract_features(directory):\n",
    "    features = {}\n",
    "    for img_name in tqdm(os.listdir(directory)):\n",
    "        if img_name.endswith('.jpg'):\n",
    "            img_path = os.path.join(directory, img_name)\n",
    "            image = Image.open(img_path).resize((299, 299))\n",
    "            image = np.array(image) / 255.0\n",
    "            image = np.expand_dims(image, axis=0)\n",
    "            feature = feature_extractor.predict(image)\n",
    "            features[img_name.split('.')[0]] = feature\n",
    "    return features\n",
    "\n",
    "features = extract_features(image_dir)\n"
   ]
  },
  {
   "cell_type": "code",
   "execution_count": null,
   "metadata": {},
   "outputs": [],
   "source": [
    "# Tokenize captions\n",
    "all_captions = []\n",
    "for key in captions.keys():\n",
    "    [all_captions.append(caption) for caption in captions[key]]\n",
    "\n",
    "# Create a tokenizer\n",
    "tokenizer = Tokenizer()\n",
    "tokenizer.fit_on_texts(all_captions)\n",
    "vocab_size = len(tokenizer.word_index) + 1\n",
    "\n",
    "# Convert captions to sequences\n",
    "def create_sequences(tokenizer, max_length, captions, features):\n",
    "    X1, X2, y = [], [], []\n",
    "    for key, cap_list in captions.items():\n",
    "        feature = features[key][0]\n",
    "        for caption in cap_list:\n",
    "            seq = tokenizer.texts_to_sequences([caption])[0]\n",
    "            for i in range(1, len(seq)):\n",
    "                in_seq, out_seq = seq[:i], seq[i]\n",
    "                in_seq = pad_sequences([in_seq], maxlen=max_length)[0]\n",
    "                out_seq = tf.keras.utils.to_categorical([out_seq], num_classes=vocab_size)[0]\n",
    "                X1.append(feature)\n",
    "                X2.append(in_seq)\n",
    "                y.append(out_seq)\n",
    "    return np.array(X1), np.array(X2), np.array(y)\n",
    "\n",
    "max_length = max(len(caption.split()) for caption in all_captions)\n",
    "X1, X2, y = create_sequences(tokenizer, max_length, captions, features)\n"
   ]
  },
  {
   "cell_type": "code",
   "execution_count": null,
   "metadata": {},
   "outputs": [],
   "source": [
    "# Define the model\n",
    "def define_model(vocab_size, max_length):\n",
    "    # Image feature extractor\n",
    "    inputs1 = Input(shape=(2048,))\n",
    "    fe1 = Dropout(0.5)(inputs1)\n",
    "    fe2 = Dense(256, activation='relu')(fe1)\n",
    "    \n",
    "    # Sequence processor\n",
    "    inputs2 = Input(shape=(max_length,))\n",
    "    se1 = Embedding(vocab_size, 256, mask_zero=True)(inputs2)\n",
    "    se2 = Dropout(0.5)(se1)\n",
    "    se3 = LSTM(256)(se2)\n",
    "    \n",
    "    # Decoder (Combining features and sequence)\n",
    "    decoder1 = add([fe2, se3])\n",
    "    decoder2 = Dense(256, activation='relu')(decoder1)\n",
    "    outputs = Dense(vocab_size, activation='softmax')(decoder2)\n",
    "    \n",
    "    model = Model(inputs=[inputs1, inputs2], outputs=outputs)\n",
    "    model.compile(loss='categorical_crossentropy', optimizer=Adam())\n",
    "    return model\n",
    "\n",
    "model = define_model(vocab_size, max_length)\n",
    "model.summary()\n"
   ]
  },
  {
   "cell_type": "code",
   "execution_count": null,
   "metadata": {},
   "outputs": [],
   "source": [
    "# Train the model\n",
    "model.fit([X1, X2], y, epochs=3, batch_size=64, verbose=1)\n"
   ]
  },
  {
   "cell_type": "code",
   "execution_count": null,
   "metadata": {},
   "outputs": [],
   "source": [
    "# Generate a caption for an image\n",
    "def generate_caption(model, tokenizer, photo, max_length):\n",
    "    in_text = 'startseq'\n",
    "    for _ in range(max_length):\n",
    "        sequence = tokenizer.texts_to_sequences([in_text])[0]\n",
    "        sequence = pad_sequences([sequence], maxlen=max_length)\n",
    "        yhat = model.predict([photo, sequence], verbose=0)\n",
    "        yhat = np.argmax(yhat)\n",
    "        word = tokenizer.index_word[yhat]\n",
    "        if word is None:\n",
    "            break\n",
    "        in_text += ' ' + word\n",
    "        if word == 'endseq':\n",
    "            break\n",
    "    return in_text\n",
    "\n",
    "# Test with a new image\n",
    "img_path = 'path_to_test_image.jpg'\n",
    "image = Image.open(img_path).resize((299, 299))\n",
    "image = np.expand_dims(np.array(image) / 255.0, axis=0)\n",
    "feature = feature_extractor.predict(image)\n",
    "caption = generate_caption(model, tokenizer, feature, max_length)\n",
    "print(\"Generated Caption:\", caption)\n"
   ]
  },
  {
   "cell_type": "code",
   "execution_count": null,
   "metadata": {},
   "outputs": [],
   "source": [
    "def evaluate_model(model, captions, features, tokenizer, max_length):\n",
    "    actual, predicted = [], []\n",
    "    for key, cap_list in captions.items():\n",
    "        y_pred = generate_caption(model, tokenizer, features[key], max_length)\n",
    "        references = [caption.split() for caption in cap_list]\n",
    "        y_pred = y_pred.split()\n",
    "        actual.append(references)\n",
    "        predicted.append(y_pred)\n",
    "    \n",
    "    # Calculate BLEU scores\n",
    "    bleu_1 = np.mean([sentence_bleu(ref, pred, weights=(1.0, 0, 0, 0)) for ref, pred in zip(actual, predicted)])\n",
    "    bleu_2 = np.mean([sentence_bleu(ref, pred, weights=(0.5, 0.5, 0, 0)) for ref, pred in zip(actual, predicted)])\n",
    "    bleu_3 = np.mean([sentence_bleu(ref, pred, weights=(0.33, 0.33, 0.33, 0)) for ref, pred in zip(actual, predicted)])\n",
    "    bleu_4 = np.mean([sentence_bleu(ref, pred, weights=(0.25, 0.25, 0.25, 0.25)) for ref, pred in zip(actual, predicted)])\n",
    "    return bleu_1, bleu_2, bleu_3, bleu_4\n",
    "\n",
    "# Evaluate BLEU scores\n",
    "bleu_1, bleu_2, bleu_3, bleu_4 = evaluate_model(model, captions, features, tokenizer, max_length)\n",
    "print(f\"BLEU-1: {bleu_1}\")\n",
    "print(f\"BLEU-2: {bleu_2}\")\n",
    "print(f\"BLEU-3: {bleu_3}\")\n",
    "print(f\"BLEU-4: {bleu_4}\")\n"
   ]
  }
 ],
 "metadata": {
  "kernelspec": {
   "display_name": "Python 3",
   "language": "python",
   "name": "python3"
  },
  "language_info": {
   "codemirror_mode": {
    "name": "ipython",
    "version": 3
   },
   "file_extension": ".py",
   "mimetype": "text/x-python",
   "name": "python",
   "nbconvert_exporter": "python",
   "pygments_lexer": "ipython3",
   "version": "3.10.11"
  }
 },
 "nbformat": 4,
 "nbformat_minor": 2
}
