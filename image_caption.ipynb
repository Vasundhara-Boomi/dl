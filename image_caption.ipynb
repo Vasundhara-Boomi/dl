{
 "cells": [
  {
   "cell_type": "code",
   "execution_count": 2,
   "metadata": {},
   "outputs": [
    {
     "name": "stderr",
     "output_type": "stream",
     "text": [
      "C:\\Users\\B Vasundhara\\AppData\\Local\\Packages\\PythonSoftwareFoundation.Python.3.10_qbz5n2kfra8p0\\LocalCache\\local-packages\\Python310\\site-packages\\scipy\\__init__.py:146: UserWarning: A NumPy version >=1.16.5 and <1.23.0 is required for this version of SciPy (detected version 1.24.3\n",
      "  warnings.warn(f\"A NumPy version >={np_minversion} and <{np_maxversion}\"\n"
     ]
    }
   ],
   "source": [
    "import os\n",
    "import numpy as np\n",
    "from tensorflow.keras.preprocessing.image import load_img, img_to_array\n",
    "from tensorflow.keras.applications.vgg16 import VGG16, preprocess_input\n",
    "from tensorflow.keras.preprocessing.text import Tokenizer\n",
    "from tensorflow.keras.utils import pad_sequences\n",
    "from tensorflow.keras.layers import Input, Dense, LSTM, Embedding, RepeatVector\n",
    "from sklearn.model_selection import train_test_split\n",
    "from tensorflow.keras.models import Model, Sequential\n",
    "import cv2\n",
    "import matplotlib.pyplot as pt"
   ]
  },
  {
   "cell_type": "code",
   "execution_count": 30,
   "metadata": {},
   "outputs": [],
   "source": [
    "# Define the function to load images and captions\n",
    "def load_data(image_folder, caption_file):\n",
    "    image_paths = []\n",
    "    captions = []\n",
    "    imgs = []\n",
    "\n",
    "    # Read captions from the text file\n",
    "    with open(caption_file, 'r') as f:\n",
    "        lines = f.readlines()\n",
    "        for line in lines:\n",
    "            parts = line.strip().split('\\t')\n",
    "            if len(parts) == 2:\n",
    "                img_name, caption = parts\n",
    "                img_path = os.path.join(image_folder, img_name)\n",
    "                if os.path.exists(img_path):\n",
    "                    image_paths.append(img_path)\n",
    "                    captions.append(caption)\n",
    "                    \n",
    "                    # Load and convert the image to numpy array\n",
    "                    img = Image.open(img_path).convert(\"RGB\")\n",
    "                    imgs.append(np.array(img))\n",
    "                    \n",
    "    return imgs, image_paths, captions"
   ]
  },
  {
   "cell_type": "code",
   "execution_count": 31,
   "metadata": {},
   "outputs": [],
   "source": [
    "image_folder = r'D:\\archive\\Images'  # Folder containing images\n",
    "caption_file = r\"D:\\archive\\captions.txt\" # Text file with image-caption pairs\n",
    "imgs, image_paths, captions = load_data(image_folder, caption_file)"
   ]
  },
  {
   "cell_type": "code",
   "execution_count": 32,
   "metadata": {},
   "outputs": [
    {
     "data": {
      "text/plain": [
       "<Figure size 1000x1000 with 0 Axes>"
      ]
     },
     "metadata": {},
     "output_type": "display_data"
    }
   ],
   "source": [
    "# Display a few images with captions\n",
    "num_images = 5  # Adjust this to show more or fewer images\n",
    "num_images_to_display = min(num_images, len(imgs))  # Make sure we don't exceed the available images\n",
    "\n",
    "# Set up the plot\n",
    "pt.figure(figsize=(10, 10))\n",
    "\n",
    "# Loop through the images and display them\n",
    "for i in range(num_images_to_display):\n",
    "    pt.subplot(1, num_images_to_display, i + 1)\n",
    "    pt.imshow(imgs[i])\n",
    "    pt.title(captions[i])\n",
    "    pt.axis('off')\n",
    "\n",
    "# Show the plot after all images have been added\n",
    "pt.show()"
   ]
  },
  {
   "cell_type": "code",
   "execution_count": 33,
   "metadata": {},
   "outputs": [],
   "source": [
    "image_paths = image_paths[1:12]"
   ]
  },
  {
   "cell_type": "code",
   "execution_count": 34,
   "metadata": {},
   "outputs": [],
   "source": [
    "captions = captions[1:12]"
   ]
  },
  {
   "cell_type": "code",
   "execution_count": 35,
   "metadata": {},
   "outputs": [],
   "source": [
    "cnn_model = VGG16(weights='imagenet', include_top=False, input_shape=(224, 224, 3))\n",
    "cnn_model = Model(inputs=cnn_model.inputs, outputs=cnn_model.layers[-1].output)"
   ]
  },
  {
   "cell_type": "code",
   "execution_count": 36,
   "metadata": {},
   "outputs": [],
   "source": [
    "import matplotlib.pyplot as plt\n",
    "\n",
    "def extract_features(image):\n",
    "    image = np.expand_dims(image, axis=0)  # Expand dims to simulate batch\n",
    "    return cnn_model.predict(image)"
   ]
  },
  {
   "cell_type": "code",
   "execution_count": 37,
   "metadata": {},
   "outputs": [],
   "source": [
    "def build_captioning_model(vocab_size, max_caption_length):\n",
    "    model = Sequential()\n",
    "    model.add(Embedding(input_dim=vocab_size, output_dim=256, input_length=max_caption_length))\n",
    "    model.add(LSTM(256, return_sequences=True))\n",
    "    model.add(Dense(vocab_size, activation='softmax'))\n",
    "    model.compile(loss='categorical_crossentropy', optimizer='adam')\n",
    "    return model"
   ]
  },
  {
   "cell_type": "code",
   "execution_count": null,
   "metadata": {},
   "outputs": [
    {
     "name": "stdout",
     "output_type": "stream",
     "text": [
      "Model: \"sequential_1\"\n",
      "_________________________________________________________________\n",
      " Layer (type)                Output Shape              Param #   \n",
      "=================================================================\n",
      " embedding_1 (Embedding)     (None, 10, 256)           256000    \n",
      "                                                                 \n",
      " lstm_1 (LSTM)               (None, 10, 256)           525312    \n",
      "                                                                 \n",
      " dense_1 (Dense)             (None, 10, 1000)          257000    \n",
      "                                                                 \n",
      "=================================================================\n",
      "Total params: 1038312 (3.96 MB)\n",
      "Trainable params: 1038312 (3.96 MB)\n",
      "Non-trainable params: 0 (0.00 Byte)\n",
      "_________________________________________________________________\n"
     ]
    }
   ],
   "source": [
    "vocab_size = 1000           # Vocab size for captions\n",
    "max_caption_length = 10      # Max length of captions\n",
    "\n",
    "# Build and summarize the model\n",
    "captioning_model = build_captioning_model(vocab_size, max_caption_length)\n",
    "captioning_model.summary()\n",
    "\n",
    "# Data for demonstration\n",
    "image = np.random.rand(224, 224, 3)  # Dummy image data\n",
    "caption = np.random.randint(1, vocab_size, (1, max_caption_length))"
   ]
  },
  {
   "cell_type": "code",
   "execution_count": 39,
   "metadata": {},
   "outputs": [
    {
     "name": "stdout",
     "output_type": "stream",
     "text": [
      "1/1 [==============================] - 0s 217ms/step\n",
      "Extracted Image Features: (1, 7, 7, 512)\n"
     ]
    }
   ],
   "source": [
    "image_features = extract_features(image)\n",
    "print(\"Extracted Image Features:\", image_features.shape)"
   ]
  },
  {
   "cell_type": "code",
   "execution_count": 40,
   "metadata": {},
   "outputs": [
    {
     "name": "stdout",
     "output_type": "stream",
     "text": [
      "Epoch 1/5\n",
      "1/1 [==============================] - 2s 2s/step - loss: 3441.8862\n",
      "Epoch 2/5\n",
      "1/1 [==============================] - 0s 13ms/step - loss: 3441.8293\n",
      "Epoch 3/5\n",
      "1/1 [==============================] - 0s 17ms/step - loss: 3441.7844\n",
      "Epoch 4/5\n",
      "1/1 [==============================] - 0s 15ms/step - loss: 3441.7488\n",
      "Epoch 5/5\n",
      "1/1 [==============================] - 0s 15ms/step - loss: 3441.7253\n"
     ]
    },
    {
     "data": {
      "text/plain": [
       "<keras.src.callbacks.History at 0x2b7082adc60>"
      ]
     },
     "execution_count": 40,
     "metadata": {},
     "output_type": "execute_result"
    }
   ],
   "source": [
    "captioning_model.fit(caption, np.random.rand(1, max_caption_length, vocab_size), epochs=5,verbose=1)"
   ]
  },
  {
   "cell_type": "code",
   "execution_count": 41,
   "metadata": {},
   "outputs": [],
   "source": [
    "reference_captions = [\n",
    "    [\"a\", \"sample\", \"caption\", \"of\", \"an\", \"image\"],\n",
    "    [\"another\", \"description\", \"of\", \"the\", \"image\", \"content\"]\n",
    "]"
   ]
  },
  {
   "cell_type": "code",
   "execution_count": null,
   "metadata": {},
   "outputs": [],
   "source": [
    "!pip install nltk"
   ]
  },
  {
   "cell_type": "code",
   "execution_count": 42,
   "metadata": {},
   "outputs": [],
   "source": [
    "from nltk.translate.bleu_score import sentence_bleu\n",
    "\n",
    "def evaluate_bleu(reference, candidate):\n",
    "    reference = [reference]  # NLTK BLEU expects list of references\n",
    "    return sentence_bleu(reference, candidate)"
   ]
  },
  {
   "cell_type": "code",
   "execution_count": 43,
   "metadata": {},
   "outputs": [
    {
     "name": "stdout",
     "output_type": "stream",
     "text": [
      "BLEU score for the generated caption: 0.6511126026643229\n"
     ]
    }
   ],
   "source": [
    "dummy_generated_caption = [\"this\", \"is\", \"a\", \"generated\", \"caption\"]\n",
    "bleu_score = evaluate_bleu(reference_captions[0], dummy_generated_caption)\n",
    "print(\"BLEU score for the generated caption:\", bleu_score)"
   ]
  }
 ],
 "metadata": {
  "kernelspec": {
   "display_name": "Python 3",
   "language": "python",
   "name": "python3"
  },
  "language_info": {
   "codemirror_mode": {
    "name": "ipython",
    "version": 3
   },
   "file_extension": ".py",
   "mimetype": "text/x-python",
   "name": "python",
   "nbconvert_exporter": "python",
   "pygments_lexer": "ipython3",
   "version": "3.10.11"
  }
 },
 "nbformat": 4,
 "nbformat_minor": 2
}
